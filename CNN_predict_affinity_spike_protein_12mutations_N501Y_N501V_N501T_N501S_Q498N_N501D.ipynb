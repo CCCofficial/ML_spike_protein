{
 "cells": [
  {
   "cell_type": "markdown",
   "metadata": {},
   "source": [
    "# Data Analysis\n",
    "* Created on Wed Jan, 27 2021 by Shangying Wang\n",
    "* Last Modified: June 4, 2021\n",
    "* This code is used for prediction the affinity (1 represents higher affinity and 0 represents lower affinity) of the spike protein"
   ]
  },
  {
   "cell_type": "code",
   "execution_count": 1,
   "metadata": {},
   "outputs": [
    {
     "name": "stdout",
     "output_type": "stream",
     "text": [
      "3.7.8\n"
     ]
    }
   ],
   "source": [
    "#import necessary modules\n",
    "import tensorflow as tf\n",
    "import numpy as np\n",
    "import pandas as pd\n",
    "from tensorflow import keras\n",
    "from sklearn.model_selection import train_test_split\n",
    "from keras.utils.np_utils import to_categorical\n",
    "import csv\n",
    "import os\n",
    "import matplotlib.pyplot as plt\n",
    "import imageio\n",
    "%matplotlib inline\n",
    "import seaborn as sns\n",
    "sns.set(style=\"ticks\", color_codes=True)\n",
    "#import pdb\n",
    "from platform import python_version\n",
    "print(python_version())"
   ]
  },
  {
   "cell_type": "code",
   "execution_count": 2,
   "metadata": {},
   "outputs": [
    {
     "name": "stdout",
     "output_type": "stream",
     "text": [
      "2.4.1\n"
     ]
    }
   ],
   "source": [
    "from keras.optimizers import SGD, Adam\n",
    "from keras import layers\n",
    "from keras.layers import Input, Dense, Dropout, Flatten, Average, BatchNormalization\n",
    "#from tensorflow.keras.layers import Conv1D,MaxPool1D\n",
    "from keras.layers.convolutional import Convolution1D, MaxPooling1D\n",
    "from keras.initializers import RandomNormal\n",
    "from keras import models\n",
    "import matplotlib.pyplot as plt\n",
    "from tensorflow.keras.callbacks import EarlyStopping\n",
    "from sklearn.preprocessing import MinMaxScaler,StandardScaler,RobustScaler\n",
    "\n",
    "from sklearn.preprocessing import scale\n",
    "from sklearn.cluster import KMeans\n",
    "from sklearn.datasets import make_blobs\n",
    "from sklearn.utils import shuffle\n",
    "from glob import glob\n",
    "print(tf.__version__)"
   ]
  },
  {
   "cell_type": "markdown",
   "metadata": {},
   "source": [
    "## Load figures"
   ]
  },
  {
   "cell_type": "code",
   "execution_count": 3,
   "metadata": {},
   "outputs": [],
   "source": [
    "end=480 #480 means to use the first 500 pics and the end time is 10ns; ...7980 means to use the first 8000 pics and the end time is 160ns.\n",
    "data_N501Y = sorted(glob(os.path.join(\"pic_N501Y_subtract_ave\",\"*.png\")))[0:end]  #higher affinity (for training)\n",
    "data_Q498Y = sorted(glob(os.path.join(\"pic_Q498Y_subtract_ave\",\"*.png\")))[0:end]  #higher affinity\n",
    "data_N501V = sorted(glob(os.path.join(\"pic_N501V_subtract_ave\",\"*.png\")))[0:end] #higher affinity (for training)\n",
    "data_Q493Y = sorted(glob(os.path.join(\"pic_Q493Y_subtract_ave\",\"*.png\")))[0:end]  #higher affinity\n",
    "data_N501T = sorted(glob(os.path.join(\"pic_N501T_subtract_ave\",\"*.png\")))[0:end] #higher affinity (for training)\n",
    "data_E484K = sorted(glob(os.path.join(\"pic_E484K_subtract_ave\",\"*.png\")))[0:end] #higher affinity \n",
    "\n",
    "data_N501S = sorted(glob(os.path.join(\"pic_N501S_subtract_ave\",\"*.png\")))[0:end]  #lower affinity (for training)\n",
    "data_Q493N = sorted(glob(os.path.join(\"pic_Q493N_subtract_ave\",\"*.png\")))[0:end]  #lower affinity \n",
    "data_Q498N = sorted(glob(os.path.join(\"pic_Q498N_subtract_ave\",\"*.png\")))[0:end]  #lower affinity (for training)\n",
    "data_Q498K = sorted(glob(os.path.join(\"pic_Q498K_subtract_ave\",\"*.png\")))[0:end]  #lower affinity\n",
    "data_N501D = sorted(glob(os.path.join(\"pic_N501D_subtract_ave\",\"*.png\")))[0:end] #lower affinity (for training)\n",
    "data_G502P = sorted(glob(os.path.join(\"pic_G502P_subtract_ave\",\"*.png\")))[0:end] #lower affinity\n",
    "\n",
    "#data_WT = glob(os.path.join(\"pic_WT_0-114ns_subtract_ave\",\"*.png\")) #references\n",
    "# 1\n",
    "#training_data = np.array(data_N501Y+data_Q498Y+data_N501T+data_E484K+data_N501S+data_Q493N+data_N501D+data_G502P)\n",
    "# 2\n",
    "#training_data = np.array(data_N501Y+data_Q498Y+data_N501D+data_G502P)\n",
    "# 3\n",
    "# training_data = np.array(data_N501Y+data_G502P)\n",
    "# 4\n",
    "training_data = np.array(data_N501Y+data_N501V+data_N501T+data_N501S+data_Q498N+data_N501D)\n",
    "test_dataA = np.array(data_Q498Y+data_G502P)\n",
    "test_dataB = np.array(data_Q493Y+data_Q498K)\n",
    "test_dataC = np.array(data_E484K+data_Q493N)\n",
    "train_size1 = len(data_N501Y+data_N501V+data_N501T) #size of train data with high affinity\n",
    "train_size2 = len(data_N501S+data_Q498N+data_N501D)#size of train data with low affinity\n",
    "test_size1A = len(data_Q498Y)#size of test data with high affinity\n",
    "test_size2A = len(data_G502P)#size of test data with low affinity\n",
    "test_size1B = len(data_Q493Y)#size of test data with high affinity\n",
    "test_size2B = len(data_Q498K)#size of test data with low affinity\n",
    "test_size1C = len(data_E484K)#size of test data with high affinity\n",
    "test_size2C = len(data_Q493N)#size of test data with low affinity"
   ]
  },
  {
   "cell_type": "code",
   "execution_count": 4,
   "metadata": {},
   "outputs": [
    {
     "data": {
      "text/plain": [
       "(2880, 62, 55, 1)"
      ]
     },
     "execution_count": 4,
     "metadata": {},
     "output_type": "execute_result"
    }
   ],
   "source": [
    "fdata_train = [imageio.imread(img_name) for img_name in training_data]\n",
    "fdata_train = np.array(fdata_train).astype(np.float32)[:,:,:,None] / 255   #normalize the input to be within -1 to 1\n",
    "fdata_test = [imageio.imread(img_name) for img_name in test_dataA]\n",
    "fdata_testA = np.array(fdata_test).astype(np.float32)[:,:,:,None] / 255   #normalize the input to be within -1 to 1\n",
    "fdata_test = [imageio.imread(img_name) for img_name in test_dataB]\n",
    "fdata_testB = np.array(fdata_test).astype(np.float32)[:,:,:,None] / 255   #normalize the input to be within -1 to 1\n",
    "fdata_test = [imageio.imread(img_name) for img_name in test_dataC]\n",
    "fdata_testC = np.array(fdata_test).astype(np.float32)[:,:,:,None] / 255   #normalize the input to be within -1 to 1\n",
    "np.shape(fdata_train)"
   ]
  },
  {
   "cell_type": "code",
   "execution_count": 5,
   "metadata": {},
   "outputs": [
    {
     "data": {
      "text/plain": [
       "(2880,)"
      ]
     },
     "execution_count": 5,
     "metadata": {},
     "output_type": "execute_result"
    }
   ],
   "source": [
    "train_y = np.hstack((np.ones((train_size1,),dtype=int),np.zeros((train_size2,), dtype=int)))\n",
    "test_yA = np.hstack((np.ones((test_size1A,),dtype=int),np.zeros((test_size2A,), dtype=int)))\n",
    "test_yB = np.hstack((np.ones((test_size1B,),dtype=int),np.zeros((test_size2B,), dtype=int)))\n",
    "test_yC = np.hstack((np.ones((test_size1C,),dtype=int),np.zeros((test_size2C,), dtype=int)))\n",
    "np.shape(train_y)"
   ]
  },
  {
   "cell_type": "code",
   "execution_count": 6,
   "metadata": {},
   "outputs": [],
   "source": [
    "indices_train = tf.random.shuffle(tf.range(train_size1+train_size2))\n",
    "#indices_test = tf.random.shuffle(tf.range(test_size1+test_size2))\n",
    "train_images, test_images, train_labels, test_labels = train_test_split(fdata_train[indices_train], train_y[indices_train], test_size=0.1, random_state=123)\n",
    "test2A_images = fdata_testA\n",
    "test2A_labels = test_yA\n",
    "test2B_images = fdata_testB\n",
    "test2B_labels = test_yB\n",
    "test2C_images = fdata_testC\n",
    "test2C_labels = test_yC"
   ]
  },
  {
   "cell_type": "code",
   "execution_count": 7,
   "metadata": {},
   "outputs": [],
   "source": [
    "class_names = ['Low Affinity','High Affinity']\n",
    "# plt.figure(figsize=(11,13))\n",
    "# for i in range(25):\n",
    "#     plt.subplot(5,5,i+1)\n",
    "#     plt.xticks([])\n",
    "#     plt.yticks([])\n",
    "#     plt.grid(False)\n",
    "#     plt.imshow(train_images[i,:,:,0],cmap='gray')#plt.cm.binary\n",
    "#     # The CIFAR labels happen to be arrays, \n",
    "#     # which is why you need the extra index\n",
    "#     plt.xlabel(class_names[train_labels[i]])\n",
    "# plt.show()"
   ]
  },
  {
   "cell_type": "code",
   "execution_count": 8,
   "metadata": {},
   "outputs": [
    {
     "name": "stdout",
     "output_type": "stream",
     "text": [
      "Model: \"sequential\"\n",
      "_________________________________________________________________\n",
      "Layer (type)                 Output Shape              Param #   \n",
      "=================================================================\n",
      "conv2d (Conv2D)              (None, 60, 53, 8)         80        \n",
      "_________________________________________________________________\n",
      "max_pooling2d (MaxPooling2D) (None, 30, 26, 8)         0         \n",
      "_________________________________________________________________\n",
      "conv2d_1 (Conv2D)            (None, 28, 24, 16)        1168      \n",
      "_________________________________________________________________\n",
      "max_pooling2d_1 (MaxPooling2 (None, 14, 12, 16)        0         \n",
      "_________________________________________________________________\n",
      "flatten (Flatten)            (None, 2688)              0         \n",
      "_________________________________________________________________\n",
      "dropout (Dropout)            (None, 2688)              0         \n",
      "_________________________________________________________________\n",
      "dense (Dense)                (None, 5)                 13445     \n",
      "_________________________________________________________________\n",
      "dense_1 (Dense)              (None, 2)                 12        \n",
      "=================================================================\n",
      "Total params: 14,705\n",
      "Trainable params: 14,705\n",
      "Non-trainable params: 0\n",
      "_________________________________________________________________\n"
     ]
    }
   ],
   "source": [
    "#model description\n",
    "model = models.Sequential()\n",
    "initializer = RandomNormal(mean=0.0, stddev=0.05, seed=None)\n",
    "model.add(layers.Conv2D(8, (3, 3), kernel_initializer=initializer, activation='relu', input_shape=(62, 55, 1)))\n",
    "model.add(layers.MaxPooling2D((2, 2)))\n",
    "model.add(layers.Conv2D(16, (3, 3), activation='relu'))\n",
    "model.add(layers.MaxPooling2D((2, 2)))\n",
    "#model.add(layers.Conv2D(64, (3, 3), activation='relu'))\n",
    "model.add(layers.Flatten())\n",
    "model.add(Dropout(0.5))\n",
    "model.add(layers.Dense(5, activation='relu'))\n",
    "model.add(layers.Dense(2,activation='softmax'))\n",
    "model.summary()"
   ]
  },
  {
   "cell_type": "code",
   "execution_count": 9,
   "metadata": {
    "scrolled": true
   },
   "outputs": [
    {
     "name": "stdout",
     "output_type": "stream",
     "text": [
      "Epoch 1/60\n",
      "81/81 [==============================] - 1s 9ms/step - loss: 0.6921 - accuracy: 0.5297\n",
      "Epoch 2/60\n",
      "81/81 [==============================] - 1s 8ms/step - loss: 0.6798 - accuracy: 0.6029\n",
      "Epoch 3/60\n",
      "81/81 [==============================] - 1s 8ms/step - loss: 0.6438 - accuracy: 0.7556\n",
      "Epoch 4/60\n",
      "81/81 [==============================] - 1s 8ms/step - loss: 0.5736 - accuracy: 0.8218\n",
      "Epoch 5/60\n",
      "81/81 [==============================] - 1s 8ms/step - loss: 0.4841 - accuracy: 0.8536\n",
      "Epoch 6/60\n",
      "81/81 [==============================] - 1s 8ms/step - loss: 0.3788 - accuracy: 0.8919\n",
      "Epoch 7/60\n",
      "81/81 [==============================] - 1s 8ms/step - loss: 0.2912 - accuracy: 0.9207\n",
      "Epoch 8/60\n",
      "81/81 [==============================] - 1s 8ms/step - loss: 0.2333 - accuracy: 0.9460\n",
      "Epoch 9/60\n",
      "81/81 [==============================] - 1s 8ms/step - loss: 0.1944 - accuracy: 0.9434\n",
      "Epoch 10/60\n",
      "81/81 [==============================] - 1s 8ms/step - loss: 0.1639 - accuracy: 0.9512\n",
      "Epoch 11/60\n",
      "81/81 [==============================] - 1s 9ms/step - loss: 0.1364 - accuracy: 0.9668\n",
      "Epoch 12/60\n",
      "81/81 [==============================] - 1s 9ms/step - loss: 0.1205 - accuracy: 0.9730\n",
      "Epoch 13/60\n",
      "81/81 [==============================] - 1s 8ms/step - loss: 0.1046 - accuracy: 0.9735\n",
      "Epoch 14/60\n",
      "81/81 [==============================] - 1s 9ms/step - loss: 0.0833 - accuracy: 0.9798\n",
      "Epoch 15/60\n",
      "81/81 [==============================] - 1s 8ms/step - loss: 0.0740 - accuracy: 0.9870\n",
      "Epoch 16/60\n",
      "81/81 [==============================] - 1s 9ms/step - loss: 0.0697 - accuracy: 0.9841\n",
      "Epoch 17/60\n",
      "81/81 [==============================] - 1s 9ms/step - loss: 0.0625 - accuracy: 0.9866\n",
      "Epoch 18/60\n",
      "81/81 [==============================] - 1s 9ms/step - loss: 0.0527 - accuracy: 0.9916\n",
      "Epoch 19/60\n",
      "81/81 [==============================] - 1s 9ms/step - loss: 0.0585 - accuracy: 0.9879\n",
      "Epoch 20/60\n",
      "81/81 [==============================] - 1s 9ms/step - loss: 0.0407 - accuracy: 0.9925\n",
      "Epoch 21/60\n",
      "81/81 [==============================] - 1s 9ms/step - loss: 0.0421 - accuracy: 0.9917\n",
      "Epoch 22/60\n",
      "81/81 [==============================] - 1s 9ms/step - loss: 0.0401 - accuracy: 0.9911\n",
      "Epoch 23/60\n",
      "81/81 [==============================] - 1s 9ms/step - loss: 0.0319 - accuracy: 0.9945\n",
      "Epoch 24/60\n",
      "81/81 [==============================] - 1s 9ms/step - loss: 0.0320 - accuracy: 0.9938\n",
      "Epoch 25/60\n",
      "81/81 [==============================] - 1s 10ms/step - loss: 0.0281 - accuracy: 0.9948\n",
      "Epoch 26/60\n",
      "81/81 [==============================] - 1s 10ms/step - loss: 0.0229 - accuracy: 0.9976\n",
      "Epoch 27/60\n",
      "81/81 [==============================] - 1s 9ms/step - loss: 0.0235 - accuracy: 0.9960\n",
      "Epoch 28/60\n",
      "81/81 [==============================] - 1s 10ms/step - loss: 0.0181 - accuracy: 0.9983\n",
      "Epoch 29/60\n",
      "81/81 [==============================] - 1s 10ms/step - loss: 0.0202 - accuracy: 0.9955\n",
      "Epoch 30/60\n",
      "81/81 [==============================] - 1s 10ms/step - loss: 0.0187 - accuracy: 0.9964\n",
      "Epoch 31/60\n",
      "81/81 [==============================] - 1s 10ms/step - loss: 0.0159 - accuracy: 0.9987\n",
      "Epoch 32/60\n",
      "81/81 [==============================] - 1s 10ms/step - loss: 0.0171 - accuracy: 0.9958\n",
      "Epoch 33/60\n",
      "81/81 [==============================] - 1s 10ms/step - loss: 0.0123 - accuracy: 0.9993\n",
      "Epoch 34/60\n",
      "81/81 [==============================] - 1s 11ms/step - loss: 0.0147 - accuracy: 0.9988\n",
      "Epoch 35/60\n",
      "81/81 [==============================] - 1s 11ms/step - loss: 0.0147 - accuracy: 0.9969\n",
      "Epoch 36/60\n",
      "81/81 [==============================] - 1s 10ms/step - loss: 0.0145 - accuracy: 0.9979\n",
      "Epoch 37/60\n",
      "81/81 [==============================] - 1s 11ms/step - loss: 0.0117 - accuracy: 0.9989\n",
      "Epoch 38/60\n",
      "81/81 [==============================] - 1s 11ms/step - loss: 0.0117 - accuracy: 0.9969\n",
      "Epoch 39/60\n",
      "81/81 [==============================] - 1s 11ms/step - loss: 0.0091 - accuracy: 0.9993\n",
      "Epoch 40/60\n",
      "81/81 [==============================] - 1s 11ms/step - loss: 0.0108 - accuracy: 0.9971\n",
      "Epoch 41/60\n",
      "81/81 [==============================] - 1s 10ms/step - loss: 0.0108 - accuracy: 0.9979\n",
      "Epoch 42/60\n",
      "81/81 [==============================] - 1s 11ms/step - loss: 0.0094 - accuracy: 0.9996\n",
      "Epoch 43/60\n",
      "81/81 [==============================] - 1s 11ms/step - loss: 0.0069 - accuracy: 0.9998\n",
      "Epoch 44/60\n",
      "81/81 [==============================] - 1s 11ms/step - loss: 0.0081 - accuracy: 1.0000\n",
      "Epoch 45/60\n",
      "81/81 [==============================] - 1s 11ms/step - loss: 0.0060 - accuracy: 0.9995\n",
      "Epoch 46/60\n",
      "81/81 [==============================] - 1s 11ms/step - loss: 0.0066 - accuracy: 0.9999\n",
      "Epoch 47/60\n",
      "81/81 [==============================] - 1s 11ms/step - loss: 0.0076 - accuracy: 0.9983\n",
      "Epoch 48/60\n",
      "81/81 [==============================] - 1s 11ms/step - loss: 0.0055 - accuracy: 1.0000\n",
      "Epoch 49/60\n",
      "81/81 [==============================] - 1s 11ms/step - loss: 0.0057 - accuracy: 0.9995\n",
      "Epoch 50/60\n",
      "81/81 [==============================] - 1s 11ms/step - loss: 0.0072 - accuracy: 0.9992\n",
      "Epoch 51/60\n",
      "81/81 [==============================] - 1s 11ms/step - loss: 0.0058 - accuracy: 1.0000\n",
      "Epoch 52/60\n",
      "81/81 [==============================] - 1s 11ms/step - loss: 0.0043 - accuracy: 0.9994\n",
      "Epoch 53/60\n",
      "81/81 [==============================] - 1s 12ms/step - loss: 0.0043 - accuracy: 1.0000\n",
      "Epoch 54/60\n",
      "81/81 [==============================] - 1s 12ms/step - loss: 0.0102 - accuracy: 0.9973\n",
      "Epoch 55/60\n",
      "81/81 [==============================] - 1s 11ms/step - loss: 0.0041 - accuracy: 1.0000\n",
      "Epoch 56/60\n",
      "81/81 [==============================] - 1s 12ms/step - loss: 0.0060 - accuracy: 0.9982\n",
      "Epoch 57/60\n",
      "81/81 [==============================] - 1s 12ms/step - loss: 0.0037 - accuracy: 0.9993\n",
      "Epoch 58/60\n",
      "81/81 [==============================] - 1s 11ms/step - loss: 0.0070 - accuracy: 0.9976\n",
      "Epoch 59/60\n",
      "81/81 [==============================] - 1s 11ms/step - loss: 0.0030 - accuracy: 1.0000\n",
      "Epoch 60/60\n",
      "81/81 [==============================] - 1s 11ms/step - loss: 0.0034 - accuracy: 1.0000\n"
     ]
    }
   ],
   "source": [
    "#compile model\n",
    "model.compile(optimizer=Adam(lr=0.0001), #Adam optimizer\n",
    "              loss=tf.keras.losses.SparseCategoricalCrossentropy(from_logits=True),\n",
    "              metrics=['accuracy'])\n",
    "\n",
    "# custom_early_stopping = EarlyStopping(\n",
    "#     monitor='loss', \n",
    "#     patience=8, \n",
    "#     min_delta=1e-10, \n",
    "#     mode='min')\n",
    "# history = model.fit(train_images, train_labels, epochs=20, \n",
    "#                     validation_data=(test_images, test_labels), callbacks=[custom_early_stopping])\n",
    "history = model.fit(train_images, train_labels, epochs=60)"
   ]
  },
  {
   "cell_type": "code",
   "execution_count": 10,
   "metadata": {},
   "outputs": [],
   "source": [
    "# plt.plot(history.history['accuracy'], label='accuracy')\n",
    "# #plt.plot(history.history['val_accuracy'], label = 'val_accuracy')\n",
    "# plt.xlabel('Epoch')\n",
    "# plt.ylabel('Accuracy')\n",
    "# plt.ylim([0.7, 1.01])\n",
    "# plt.legend(loc='lower right')"
   ]
  },
  {
   "cell_type": "code",
   "execution_count": 11,
   "metadata": {},
   "outputs": [
    {
     "name": "stdout",
     "output_type": "stream",
     "text": [
      "9/9 - 0s - loss: 0.0011 - accuracy: 1.0000\n",
      "30/30 - 0s - loss: 1.4483 - accuracy: 0.6792\n",
      "30/30 - 0s - loss: 1.3830 - accuracy: 0.5323\n",
      "30/30 - 0s - loss: 0.4512 - accuracy: 0.8656\n"
     ]
    }
   ],
   "source": [
    "#model evaluation\n",
    "test_loss, test_acc = model.evaluate(test_images,  test_labels, verbose=2)\n",
    "test2A_loss, test2A_acc = model.evaluate(test2A_images,  test2A_labels, verbose=2)\n",
    "test2B_loss, test2B_acc = model.evaluate(test2B_images,  test2B_labels, verbose=2)\n",
    "test2C_loss, test2C_acc = model.evaluate(test2C_images,  test2C_labels, verbose=2)"
   ]
  },
  {
   "cell_type": "code",
   "execution_count": 12,
   "metadata": {},
   "outputs": [
    {
     "name": "stdout",
     "output_type": "stream",
     "text": [
      "Model: \"sequential\"\n",
      "_________________________________________________________________\n",
      "Layer (type)                 Output Shape              Param #   \n",
      "=================================================================\n",
      "conv2d (Conv2D)              (None, 60, 53, 8)         80        \n",
      "_________________________________________________________________\n",
      "max_pooling2d (MaxPooling2D) (None, 30, 26, 8)         0         \n",
      "_________________________________________________________________\n",
      "conv2d_1 (Conv2D)            (None, 28, 24, 16)        1168      \n",
      "_________________________________________________________________\n",
      "max_pooling2d_1 (MaxPooling2 (None, 14, 12, 16)        0         \n",
      "_________________________________________________________________\n",
      "flatten (Flatten)            (None, 2688)              0         \n",
      "_________________________________________________________________\n",
      "dropout (Dropout)            (None, 2688)              0         \n",
      "_________________________________________________________________\n",
      "dense (Dense)                (None, 5)                 13445     \n",
      "_________________________________________________________________\n",
      "dense_1 (Dense)              (None, 2)                 12        \n",
      "=================================================================\n",
      "Total params: 14,705\n",
      "Trainable params: 14,705\n",
      "Non-trainable params: 0\n",
      "_________________________________________________________________\n"
     ]
    }
   ],
   "source": [
    "#save model\n",
    "model.save('save_CNN/spike_protein_02242021_12mutations_N501Y_N501V_N501T_N501S_Q498N_N501D_500_8_16_1.h5')\n",
    "## Recreate the exact same model purely from the file:\n",
    "#model = keras.models.load_model('save_CNN/spike_protein_02242021_12mutations_N501Y_N501V_N501T_N501S_Q498N_N501D_2000_8_16_1.h5')\n",
    "#model.summary()"
   ]
  },
  {
   "cell_type": "code",
   "execution_count": 13,
   "metadata": {},
   "outputs": [
    {
     "data": {
      "image/png": "[encoded data removed]",
      "text/plain": [
       "<Figure size 576x432 with 2 Axes>"
      ]
     },
     "metadata": {},
     "output_type": "display_data"
    }
   ],
   "source": [
    "#plot the confusion matrix to visualize the classification results for data_Q498Y(H) and data_G502P (L)\n",
    "predictions = model.predict(test2A_images)\n",
    "y_pred = np.argmax(predictions, axis=1)\n",
    "cm = tf.math.confusion_matrix(test2A_labels, y_pred)\n",
    "cm = cm/cm.numpy().sum(axis=1)[:, tf.newaxis]\n",
    "plt.figure(figsize=(8, 6))\n",
    "sns.set(font_scale=2)\n",
    "sns.heatmap(\n",
    "    cm, annot=True,\n",
    "    xticklabels=class_names,\n",
    "    yticklabels=class_names)\n",
    "plt.xlabel(\"Predicted\")\n",
    "plt.ylabel(\"True\")\n",
    "plt.show()"
   ]
  },
  {
   "cell_type": "code",
   "execution_count": 14,
   "metadata": {},
   "outputs": [
    {
     "data": {
      "image/png": "[encoded data removed]",
      "text/plain": [
       "<Figure size 576x432 with 2 Axes>"
      ]
     },
     "metadata": {},
     "output_type": "display_data"
    }
   ],
   "source": [
    "#plot the confusion matrix to visualize the classification results for data_Q493Y (H) and data_Q498K (L)\n",
    "predictions = model.predict(test2B_images) \n",
    "y_pred = np.argmax(predictions, axis=1)\n",
    "cm = tf.math.confusion_matrix(test2B_labels, y_pred)\n",
    "cm = cm/cm.numpy().sum(axis=1)[:, tf.newaxis]\n",
    "plt.figure(figsize=(8, 6))\n",
    "sns.set(font_scale=2)\n",
    "sns.heatmap(\n",
    "    cm, annot=True,\n",
    "    xticklabels=class_names,\n",
    "    yticklabels=class_names)\n",
    "plt.xlabel(\"Predicted\")\n",
    "plt.ylabel(\"True\")\n",
    "plt.show()"
   ]
  },
  {
   "cell_type": "code",
   "execution_count": 15,
   "metadata": {},
   "outputs": [
    {
     "data": {
      "image/png": "[encoded data removed]",
      "text/plain": [
       "<Figure size 576x432 with 2 Axes>"
      ]
     },
     "metadata": {},
     "output_type": "display_data"
    }
   ],
   "source": [
    "#plot the confusion matrix to visualize the classification results for data_E484K (H) data_Q493N (L)\n",
    "predictions = model.predict(test2C_images) \n",
    "y_pred = np.argmax(predictions, axis=1)\n",
    "cm = tf.math.confusion_matrix(test2C_labels, y_pred)\n",
    "cm = cm/cm.numpy().sum(axis=1)[:, tf.newaxis]\n",
    "plt.figure(figsize=(8, 6))\n",
    "sns.set(font_scale=2)\n",
    "sns.heatmap(\n",
    "    cm, annot=True,\n",
    "    xticklabels=class_names,\n",
    "    yticklabels=class_names)\n",
    "plt.xlabel(\"Predicted\")\n",
    "plt.ylabel(\"True\")\n",
    "plt.show()"
   ]
  },
  {
   "cell_type": "code",
   "execution_count": 16,
   "metadata": {},
   "outputs": [],
   "source": [
    "# n=3\n",
    "# print ('\\nClass propbabilities for test image 0')\n",
    "# print (predictions[n])\n",
    "# print ('\\nPrdicted class for test image 0:', np.argmax(predictions[n]))\n",
    "# print ('Actual classification for test image 0:', test2A_labels[n])"
   ]
  },
  {
   "cell_type": "code",
   "execution_count": null,
   "metadata": {},
   "outputs": [],
   "source": []
  },
  {
   "cell_type": "code",
   "execution_count": null,
   "metadata": {},
   "outputs": [],
   "source": []
  },
  {
   "cell_type": "code",
   "execution_count": null,
   "metadata": {},
   "outputs": [],
   "source": []
  }
 ],
 "metadata": {
  "kernelspec": {
   "display_name": "Python 3",
   "language": "python",
   "name": "python3"
  },
  "language_info": {
   "codemirror_mode": {
    "name": "ipython",
    "version": 3
   },
   "file_extension": ".py",
   "mimetype": "text/x-python",
   "name": "python",
   "nbconvert_exporter": "python",
   "pygments_lexer": "ipython3",
   "version": "3.7.8"
  }
 },
 "nbformat": 4,
 "nbformat_minor": 4
}
